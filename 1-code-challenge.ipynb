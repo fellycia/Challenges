{
 "cells": [
  {
   "cell_type": "markdown",
   "metadata": {},
   "source": [
    "# Python Coding Exercises"
   ]
  },
  {
   "cell_type": "markdown",
   "metadata": {},
   "source": [
    "For these exercises you will use your knowledge in Python in order to solve those challenges.\n",
    "\n",
    "Note that there may be several ways to approach each question. \n",
    "\n",
    "Write comments for all of your code describing any assumptions you made in order to solve these problems."
   ]
  },
  {
   "cell_type": "markdown",
   "metadata": {},
   "source": [
    "### Largest Palindrome\n",
    "A palindromic number reads the same both ways. For example, 1234321 is a palindrome. The largest palindrome made from the product of two two-digit numbers is 9009 = 91 × 99. Find the largest palindrome made from the product of two three-digit numbers. Afterward, write a brief explanation walking through your code's logic in markdown."
   ]
  },
  {
   "cell_type": "code",
   "execution_count": 1,
   "metadata": {},
   "outputs": [
    {
     "name": "stdout",
     "output_type": "stream",
     "text": [
      "906609\n"
     ]
    }
   ],
   "source": [
    "res = 0 # set a start number to compare to so as to find max number\n",
    "\n",
    "for i in range(100, 1000, 1): # number 100 to 999, both included\n",
    "    for j in range(i, 1000, 1): # find multiples for every three digit number\n",
    "        x = i*j\n",
    "        if x > res: # if new number is larger than previous panlidrome number\n",
    "            s = str(x)\n",
    "            if s == s[::-1]: # if forward number equal to backward number\n",
    "                res = x\n",
    "print(res)"
   ]
  },
  {
   "cell_type": "markdown",
   "metadata": {},
   "source": [
    "- We will start with a number (res) to compare to\n",
    "- We loop over all three digits number (100 to 999)\n",
    "- We find every product of each three digit number\n",
    "- If the product is bigger than the previous number (res)(start with 0), we would then convert it into a string to accept only if it reads the same forward and backward \n",
    "- We assign res to the new largest palindrome number"
   ]
  },
  {
   "cell_type": "markdown",
   "metadata": {},
   "source": [
    "\n",
    "### Summation of Primes\n",
    "The sum of the primes below 10 is 2 + 3 + 5 + 7 = 17. Find the sum of all the primes below 2,000. Afterward, write a brief explanation walking through your code's logic in markdown."
   ]
  },
  {
   "cell_type": "code",
   "execution_count": 2,
   "metadata": {},
   "outputs": [],
   "source": [
    "# find prime number and return True\n",
    "def is_prime(n):\n",
    "    if n == 1:\n",
    "        return False\n",
    "    if n == 2:\n",
    "        return True\n",
    "    for i in range(2, n//2+1):\n",
    "        if n % i == 0:\n",
    "            return False\n",
    "    return True\n",
    "\n",
    "# sum all prime numbers below inputted number\n",
    "def sum_primes(num):\n",
    "    numbers = list(range(1, num))\n",
    "    primes = [n for n in numbers if is_prime(n)]\n",
    "    return sum(primes)"
   ]
  },
  {
   "cell_type": "code",
   "execution_count": 3,
   "metadata": {},
   "outputs": [
    {
     "data": {
      "text/plain": [
       "277050"
      ]
     },
     "execution_count": 3,
     "metadata": {},
     "output_type": "execute_result"
    }
   ],
   "source": [
    "# sum of all the primes below 2000\n",
    "sum_primes(2000)"
   ]
  },
  {
   "cell_type": "markdown",
   "metadata": {},
   "source": [
    "There are two functions: One to define a prime number, return True if it is prime and the other to sum the primes numbers below an inputted value. The first function is used in the second function.\n",
    "\n",
    "For the first function:\n",
    "- The function tests whether the input number n is a prime number.\n",
    "- If the number is 1, it will return False as it is not a prime number.\n",
    "- If the number is 2, it will return True as it is a prime number.\n",
    "- For subsequent numbers, the function will divide n by every number from 2 to half of n plus 1. Within this range, if n is divisible by any number without leaving a remainder, it is not a prime number and function will return False.\n",
    "- Otherwise, function returns True.\n",
    "\n",
    "For the second function:\n",
    "- The function creates a list of integers from 1 to the input number num\n",
    "- A second list is created that calls the first function and only includes integers that return True for the first function\n",
    "- The sum of the second list is found."
   ]
  },
  {
   "cell_type": "markdown",
   "metadata": {},
   "source": [
    "###  Multiples of 3 and 5\n",
    "If we list all of the natural numbers below 10 that are multiples of 3 or 5, we get 3, 5, 6, and 9. The sum of these multiples is 23. Find the sum of all the multiples of 3 and 5 below 1,000. Afterward, write a brief explanation walking through your code's logic in markdown."
   ]
  },
  {
   "cell_type": "code",
   "execution_count": 4,
   "metadata": {},
   "outputs": [],
   "source": [
    "def multiples_of_three_five(n):\n",
    "    if n % 3 == 0:\n",
    "        return True\n",
    "    if n % 5 == 0:\n",
    "        return True\n",
    "    return False\n",
    "\n",
    "def sum_multiples_three_five(num):\n",
    "    numbers = list(range(1, num))\n",
    "    muls = [n for n in numbers if multiples_of_three_five(n)]\n",
    "    return sum(muls)"
   ]
  },
  {
   "cell_type": "code",
   "execution_count": 5,
   "metadata": {
    "scrolled": true
   },
   "outputs": [
    {
     "data": {
      "text/plain": [
       "233168"
      ]
     },
     "execution_count": 5,
     "metadata": {},
     "output_type": "execute_result"
    }
   ],
   "source": [
    "sum_multiples_three_five(1000)"
   ]
  },
  {
   "cell_type": "markdown",
   "metadata": {},
   "source": [
    "There are 2 functions. \n",
    "\n",
    "The first function is to find if a number is a multiple of 3 or 5. If it is, it will return True. If it is not, it will return False. the first function will be used in the second function.\n",
    "\n",
    "The second function creates a list of integers from 1 to the input number num that returns True for the first function and sums all the numbers up."
   ]
  },
  {
   "cell_type": "markdown",
   "metadata": {},
   "source": [
    "### FizzBuzz\n",
    "Write a program that prints all of the numbers from 1 to 100. For multiples of 3, instead of the number, print \"Fizz;\" for multiples of 5, print \"Buzz.\" For numbers that are multiples of both 3 and 5, print \"FizzBuzz.\" Afterward, write a brief explanation walking through your code's logic in markdown."
   ]
  },
  {
   "cell_type": "code",
   "execution_count": 6,
   "metadata": {
    "scrolled": false
   },
   "outputs": [
    {
     "name": "stdout",
     "output_type": "stream",
     "text": [
      "1\n",
      "2\n",
      "Fizz\n",
      "4\n",
      "Buzz\n",
      "Fizz\n",
      "7\n",
      "8\n",
      "Fizz\n",
      "Buzz\n",
      "11\n",
      "Fizz\n",
      "13\n",
      "14\n",
      "FizzBuzz\n",
      "16\n",
      "17\n",
      "Fizz\n",
      "19\n",
      "Buzz\n",
      "Fizz\n",
      "22\n",
      "23\n",
      "Fizz\n",
      "Buzz\n",
      "26\n",
      "Fizz\n",
      "28\n",
      "29\n",
      "FizzBuzz\n",
      "31\n",
      "32\n",
      "Fizz\n",
      "34\n",
      "Buzz\n",
      "Fizz\n",
      "37\n",
      "38\n",
      "Fizz\n",
      "Buzz\n",
      "41\n",
      "Fizz\n",
      "43\n",
      "44\n",
      "FizzBuzz\n",
      "46\n",
      "47\n",
      "Fizz\n",
      "49\n",
      "Buzz\n",
      "Fizz\n",
      "52\n",
      "53\n",
      "Fizz\n",
      "Buzz\n",
      "56\n",
      "Fizz\n",
      "58\n",
      "59\n",
      "FizzBuzz\n",
      "61\n",
      "62\n",
      "Fizz\n",
      "64\n",
      "Buzz\n",
      "Fizz\n",
      "67\n",
      "68\n",
      "Fizz\n",
      "Buzz\n",
      "71\n",
      "Fizz\n",
      "73\n",
      "74\n",
      "FizzBuzz\n",
      "76\n",
      "77\n",
      "Fizz\n",
      "79\n",
      "Buzz\n",
      "Fizz\n",
      "82\n",
      "83\n",
      "Fizz\n",
      "Buzz\n",
      "86\n",
      "Fizz\n",
      "88\n",
      "89\n",
      "FizzBuzz\n",
      "91\n",
      "92\n",
      "Fizz\n",
      "94\n",
      "Buzz\n",
      "Fizz\n",
      "97\n",
      "98\n",
      "Fizz\n",
      "Buzz\n"
     ]
    }
   ],
   "source": [
    "for n in range(1, 101):\n",
    "    if (n % 3 == 0) and (n % 5 == 0):\n",
    "        print('FizzBuzz')\n",
    "    elif n % 3 == 0:\n",
    "        print('Fizz')\n",
    "    elif n % 5 == 0:\n",
    "        print('Buzz')\n",
    "    else:\n",
    "        print(n)"
   ]
  },
  {
   "cell_type": "markdown",
   "metadata": {},
   "source": [
    "For number between 1 to 100 inclusive:\n",
    "- If the number is divisible by 3 and 5 (no remainder), it will print FizzBuzz. If condition not met, it will proceed to the next line\n",
    "- If the number is divisible by 3, it will print Fizz. If condition not met, it will proceed to the next line\n",
    "- If the number is divisible by 5, it will print Buzz. If condition not met, it will proceed to the next line\n",
    "- If all conditions above are not met, it will print the number."
   ]
  }
 ],
 "metadata": {
  "anaconda-cloud": {},
  "kernelspec": {
   "display_name": "Python 3",
   "language": "python",
   "name": "python3"
  },
  "language_info": {
   "codemirror_mode": {
    "name": "ipython",
    "version": 3
   },
   "file_extension": ".py",
   "mimetype": "text/x-python",
   "name": "python",
   "nbconvert_exporter": "python",
   "pygments_lexer": "ipython3",
   "version": "3.8.8"
  }
 },
 "nbformat": 4,
 "nbformat_minor": 2
}
